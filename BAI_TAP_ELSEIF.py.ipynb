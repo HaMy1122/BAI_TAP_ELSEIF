{
 "cells": [
  {
   "cell_type": "code",
   "execution_count": 1,
   "metadata": {},
   "outputs": [
    {
     "name": "stdout",
     "output_type": "stream",
     "text": [
      "Nhap vao so nguyen bat ky :6\n",
      "so chan\n"
     ]
    }
   ],
   "source": [
    "#LUYEN TAP VOI TOAN TU 3 NGOI\n",
    "x = int(input(\"Nhap vao so nguyen bat ky :\"))\n",
    "if (x % 2 == 0):\n",
    "    print (\"so chan\")\n",
    "else:\n",
    "    print (\"so le\")"
   ]
  },
  {
   "cell_type": "code",
   "execution_count": 2,
   "metadata": {},
   "outputs": [
    {
     "name": "stdout",
     "output_type": "stream",
     "text": [
      "Nhap vao so bat ky :1.4\n",
      "khong phai so nguyen\n"
     ]
    }
   ],
   "source": [
    "#KTRA SO CHAN LE \n",
    "x = float(input(\"Nhap vao so bat ky :\"))\n",
    "if (x % 2 == 0):\n",
    "    print (\"so chan\")\n",
    "elif (x % 2 == 1):\n",
    "    print (\"so le\")\n",
    "else: \n",
    "    print (\"khong phai so nguyen\")"
   ]
  },
  {
   "cell_type": "code",
   "execution_count": null,
   "metadata": {},
   "outputs": [],
   "source": [
    "#HIEN THI NGAY TRONG TUAN\n",
    "x = int(input(\"nhap mot so bat ky \"))\n",
    "if (x == 1):\n",
    "    print(\"Thu Hai\")\n",
    "elif (x == 2):\n",
    "    print(\"Thu Ba\")\n",
    "elif (x == 3):\n",
    "    print(\"Thu Tu\")\n",
    "elif (x == 4):\n",
    "    print(\"Thu Nam\")\n",
    "elif (x == 5):\n",
    "    print(\"Thu Sau\")\n",
    "elif (x == 6):\n",
    "    print(\"Thu Bay\")\n",
    "elif (x == 7):\n",
    "    print(\"Chu Nhat\")\n",
    "else:\n",
    "    print(\"error, out of range\")"
   ]
  },
  {
   "cell_type": "code",
   "execution_count": null,
   "metadata": {},
   "outputs": [],
   "source": [
    "#HIEN THI THONG TIN DON HANG\n",
    "x = int(input(\"Nhap so tien: \"))\n",
    "if (x >= 150):\n",
    "              print(\"giam gia 50$, phai thanh toan: \",x-50)\n",
    "elif (x >= 100):\n",
    "              print(\"giam gia 25$, phai thanh toan \",x-25)              \n",
    "elif (x >= 75):\n",
    "              print(\"giam gia 15$, phai thanh toan \",x-15)\n",
    "else:\n",
    "              print(\"Khong giam gia, phai thanh toan \",x)"
   ]
  },
  {
   "cell_type": "code",
   "execution_count": null,
   "metadata": {},
   "outputs": [],
   "source": [
    "#TINH CHI SO CAN NANG CO THE \n",
    "cannang = float(input(\"Nhap can nang (kg): \"))\n",
    "chieucao = float(input (\"Nhap chieu cao (m): \"))\n",
    "BMI = cannang / chieucao ** 2\n",
    "print(\"BMI = \",BMI)\n",
    "\n",
    "if (BMI > 40):\n",
    "    print(\"Béo phì cấp độ III\")\n",
    "elif (35 <= BMI < 40):\n",
    "    print(\"Béo phì cấp độ II\")\n",
    "elif (30 <= BMI < 35):\n",
    "    print(\"Béo phì cấp độ I\")\n",
    "elif (25 <= BMI < 30):\n",
    "    print(\"Thừa cân\")\n",
    "elif (18.5 <= BMI < 25):\n",
    "    print(\"Bình thường\")\n",
    "elif (17<= BMI < 18.5):\n",
    "    print(\"Gầy cấp độ I\")\n",
    "elif (16 <= BMI < 17):\n",
    "    print(\"Gầy cấp độ II\")\n",
    "elif (0 < BMI < 16):\n",
    "    print(\"Gầy cấp độ III\")\n",
    "else:\n",
    "    print(\"error\")"
   ]
  },
  {
   "cell_type": "code",
   "execution_count": null,
   "metadata": {},
   "outputs": [],
   "source": []
  },
  {
   "cell_type": "code",
   "execution_count": null,
   "metadata": {},
   "outputs": [],
   "source": []
  },
  {
   "cell_type": "code",
   "execution_count": null,
   "metadata": {},
   "outputs": [],
   "source": []
  }
 ],
 "metadata": {
  "kernelspec": {
   "display_name": "Python 3",
   "language": "python",
   "name": "python3"
  },
  "language_info": {
   "codemirror_mode": {
    "name": "ipython",
    "version": 3
   },
   "file_extension": ".py",
   "mimetype": "text/x-python",
   "name": "python",
   "nbconvert_exporter": "python",
   "pygments_lexer": "ipython3",
   "version": "3.8.10"
  }
 },
 "nbformat": 4,
 "nbformat_minor": 4
}
